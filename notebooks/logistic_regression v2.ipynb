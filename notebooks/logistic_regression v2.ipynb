{
 "cells": [
  {
   "cell_type": "code",
   "execution_count": 1,
   "metadata": {
    "collapsed": true
   },
   "outputs": [],
   "source": [
    "from datetime import datetime\n",
    "import pandas as pd\n",
    "pd.options.mode.chained_assignment = None\n",
    "import numpy as np\n",
    "import gzip"
   ]
  },
  {
   "cell_type": "code",
   "execution_count": 2,
   "metadata": {
    "collapsed": false
   },
   "outputs": [],
   "source": [
    "from holidays import US\n",
    "us_holidays = US()"
   ]
  },
  {
   "cell_type": "code",
   "execution_count": 3,
   "metadata": {
    "collapsed": true
   },
   "outputs": [],
   "source": [
    "from sklearn.linear_model import LogisticRegression\n",
    "\n",
    "from sklearn.feature_extraction import DictVectorizer\n",
    "from sklearn.preprocessing import StandardScaler, LabelEncoder\n",
    "from sklearn.cross_validation import train_test_split\n",
    "from sklearn.metrics import log_loss"
   ]
  },
  {
   "cell_type": "code",
   "execution_count": 4,
   "metadata": {
    "collapsed": true
   },
   "outputs": [],
   "source": [
    "train = pd.read_csv('../data/train.csv.gz', parse_dates=True)"
   ]
  },
  {
   "cell_type": "code",
   "execution_count": 5,
   "metadata": {
    "collapsed": true
   },
   "outputs": [],
   "source": [
    "test = pd.read_csv('../data/test.csv.gz', parse_dates=True)"
   ]
  },
  {
   "cell_type": "code",
   "execution_count": 6,
   "metadata": {
    "collapsed": true
   },
   "outputs": [],
   "source": [
    "street_encoder = LabelEncoder()\n",
    "\n",
    "def get_street_name(addr):\n",
    "    sp = addr.split(' ')\n",
    "    if sp[0].isdigit():\n",
    "        return ' '.join(sp[1:])\n",
    "    return addr"
   ]
  },
  {
   "cell_type": "code",
   "execution_count": 7,
   "metadata": {
    "collapsed": false
   },
   "outputs": [
    {
     "data": {
      "text/plain": [
       "LabelEncoder()"
      ]
     },
     "execution_count": 7,
     "metadata": {},
     "output_type": "execute_result"
    }
   ],
   "source": [
    "streets = pd.concat([train['Address'].apply(get_street_name), test['Address'].apply(get_street_name)])\n",
    "street_encoder.fit(streets.unique())"
   ]
  },
  {
   "cell_type": "code",
   "execution_count": 8,
   "metadata": {
    "collapsed": false
   },
   "outputs": [],
   "source": [
    "seasons = dict(zip([1,2,3,4,5,6,7,8,9,10,11,12], ['Winter','Winter','Spring','Spring','Spring','Summer','Summer','Summer','Autumn','Autumn','Autumn','Winter']))\n",
    "def get_season(d):\n",
    "    return seasons[d]"
   ]
  },
  {
   "cell_type": "code",
   "execution_count": 9,
   "metadata": {
    "collapsed": false
   },
   "outputs": [],
   "source": [
    "label_encoder = LabelEncoder()\n",
    "\n",
    "def get_dates(d):\n",
    "    dt = datetime.strptime(d, '%Y-%m-%d %H:%M:%S')\n",
    "    season = get_season(dt.month)\n",
    "    # http://www.timeanddate.com/sun/usa/san-francisco\n",
    "    if season == 'Winter':\n",
    "        isDaytime = int(6 < dt.hour < 18)\n",
    "    elif season == 'Summer':\n",
    "        isDaytime = int(5 < dt.hour < 21)\n",
    "    else:\n",
    "        isDaytime = int(6 < dt.hour < 19)\n",
    "    is_holiday = dt in us_holidays\n",
    "    return dt.hour, dt.month, dt.year, season, isDaytime, is_holiday\n",
    "\n",
    "def get_features(data):\n",
    "    df = pd.DataFrame()\n",
    "    df['Hour'], df['Month'], df['Year'], seasons, df['IsDaytime'], df['IsHoliday'] = zip(*data['Dates'].apply(get_dates))\n",
    "    df['isWeekend'] = data['DayOfWeek'].apply(lambda x: int(x == 'Saturday' or x == 'Sunday'))\n",
    "    df = df.join(pd.get_dummies(data['PdDistrict'], prefix='District'))\n",
    "    df = df.join(pd.get_dummies(data['DayOfWeek'], prefix='Day'))\n",
    "    df = df.join(pd.get_dummies(seasons, prefix='Season'))\n",
    "    xy_fitted = StandardScaler().fit_transform(data[['X', 'Y']])\n",
    "    df['X'] = xy_fitted[:, 0]\n",
    "    df['Y'] = xy_fitted[:, 1]\n",
    "    df['IsIntersection'] = data['Address'].map(lambda x: int('/' in x))\n",
    "    df['Street'] = street_encoder.transform(data['Address'].apply(get_street_name))\n",
    "    labels = None\n",
    "    if 'Category' in data:\n",
    "        labels = label_encoder.fit_transform(data['Category'])\n",
    "    return df, labels"
   ]
  },
  {
   "cell_type": "code",
   "execution_count": 10,
   "metadata": {
    "collapsed": false
   },
   "outputs": [],
   "source": [
    "features, labels = get_features(train)"
   ]
  },
  {
   "cell_type": "code",
   "execution_count": 11,
   "metadata": {
    "collapsed": true
   },
   "outputs": [],
   "source": [
    "scaler = StandardScaler()\n",
    "scaler.fit(features)\n",
    "features_scaled = scaler.transform(features)"
   ]
  },
  {
   "cell_type": "code",
   "execution_count": 12,
   "metadata": {
    "collapsed": false
   },
   "outputs": [
    {
     "name": "stdout",
     "output_type": "stream",
     "text": [
      "Started 2015-10-01 00:23:40.240376\n",
      "Finished 2015-10-01 00:50:52.617660\n"
     ]
    },
    {
     "data": {
      "text/plain": [
       "LogisticRegression(C=1.0, class_weight=None, dual=False, fit_intercept=True,\n",
       "          intercept_scaling=1, max_iter=100, multi_class='ovr',\n",
       "          penalty='l2', random_state=None, solver='liblinear', tol=0.0001,\n",
       "          verbose=0)"
      ]
     },
     "execution_count": 12,
     "metadata": {},
     "output_type": "execute_result"
    }
   ],
   "source": [
    "print 'Started', datetime.now()\n",
    "model = LogisticRegression()\n",
    "model.fit(features_scaled, labels)\n",
    "print 'Finished', datetime.now()\n",
    "model"
   ]
  },
  {
   "cell_type": "code",
   "execution_count": 13,
   "metadata": {
    "collapsed": true
   },
   "outputs": [],
   "source": [
    "del features"
   ]
  },
  {
   "cell_type": "code",
   "execution_count": 14,
   "metadata": {
    "collapsed": false
   },
   "outputs": [
    {
     "name": "stdout",
     "output_type": "stream",
     "text": [
      "score 0.232267219711\n"
     ]
    }
   ],
   "source": [
    "print 'score', model.score(features_scaled, labels)"
   ]
  },
  {
   "cell_type": "code",
   "execution_count": 15,
   "metadata": {
    "collapsed": false
   },
   "outputs": [
    {
     "name": "stdout",
     "output_type": "stream",
     "text": [
      "logloss 2.53301119268\n"
     ]
    }
   ],
   "source": [
    "print 'logloss', log_loss(labels, model.predict_proba(features_scaled))"
   ]
  },
  {
   "cell_type": "code",
   "execution_count": 16,
   "metadata": {
    "collapsed": false
   },
   "outputs": [],
   "source": [
    "test_features, _ = get_features(test)\n",
    "\n",
    "scaler.fit(test_features)\n",
    "test_features = scaler.transform(test_features)"
   ]
  },
  {
   "cell_type": "code",
   "execution_count": 18,
   "metadata": {
    "collapsed": false
   },
   "outputs": [],
   "source": [
    "proba = model.predict_proba(test_features)\n",
    "prediction = pd.DataFrame(proba, columns=label_encoder.classes_)"
   ]
  },
  {
   "cell_type": "code",
   "execution_count": null,
   "metadata": {
    "collapsed": false
   },
   "outputs": [],
   "source": [
    "with gzip.GzipFile('lrv2.csv.gz', mode='w', compresslevel=9) as f:\n",
    "    prediction.to_csv(f, index_label=\"Id\", na_rep=\"0\", float_format='%11.5f')"
   ]
  }
 ],
 "metadata": {
  "kernelspec": {
   "display_name": "Python 2",
   "language": "python",
   "name": "python2"
  },
  "language_info": {
   "codemirror_mode": {
    "name": "ipython",
    "version": 2
   },
   "file_extension": ".py",
   "mimetype": "text/x-python",
   "name": "python",
   "nbconvert_exporter": "python",
   "pygments_lexer": "ipython2",
   "version": "2.7.6"
  }
 },
 "nbformat": 4,
 "nbformat_minor": 0
}
