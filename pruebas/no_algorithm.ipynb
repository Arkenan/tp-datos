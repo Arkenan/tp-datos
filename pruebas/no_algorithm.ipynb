{
 "cells": [
  {
   "cell_type": "code",
   "execution_count": 1,
   "metadata": {
    "collapsed": true
   },
   "outputs": [],
   "source": [
    "import pandas as pd\n",
    "import numpy as np"
   ]
  },
  {
   "cell_type": "code",
   "execution_count": 73,
   "metadata": {
    "collapsed": true
   },
   "outputs": [],
   "source": [
    "import gzip, csv\n",
    "from datetime import datetime\n",
    "from collections import Counter, defaultdict\n",
    "from itertools import islice"
   ]
  },
  {
   "cell_type": "code",
   "execution_count": 3,
   "metadata": {
    "collapsed": false
   },
   "outputs": [],
   "source": [
    "train = pd.read_csv('../data/train.csv.gz')"
   ]
  },
  {
   "cell_type": "code",
   "execution_count": 4,
   "metadata": {
    "collapsed": true
   },
   "outputs": [],
   "source": [
    "df = pd.DataFrame()"
   ]
  },
  {
   "cell_type": "code",
   "execution_count": 5,
   "metadata": {
    "collapsed": true
   },
   "outputs": [],
   "source": [
    "def get_dates(d):\n",
    "    dt = datetime.strptime(d, '%Y-%m-%d %H:%M:%S')\n",
    "    return dt.hour, dt.month, dt.year"
   ]
  },
  {
   "cell_type": "code",
   "execution_count": 6,
   "metadata": {
    "collapsed": true
   },
   "outputs": [],
   "source": [
    "seasons = dict(zip([1,2,3,4,5,6,7,8,9,10,11,12], ['Winter','Winter','Spring','Spring','Spring','Summer','Summer','Summer','Autumn','Autumn','Autumn','Winter']))\n",
    "def get_season(d):\n",
    "    return seasons[d]\n"
   ]
  },
  {
   "cell_type": "code",
   "execution_count": 7,
   "metadata": {
    "collapsed": false
   },
   "outputs": [],
   "source": [
    "def get_df(data):\n",
    "    df = pd.DataFrame()\n",
    "    df['Hour'], df['Month'], df['Year'] = zip(*data['Dates'].apply(get_dates))\n",
    "    df['PdDistrict'] = data['PdDistrict']\n",
    "    if 'Category' in data:\n",
    "        df['Category'] = data['Category']\n",
    "    df['Day'] = data['DayOfWeek']\n",
    "    df['IsPeek'] = df['Hour'].apply(lambda x: 1 if x > 11 and x <= 23 else 0)\n",
    "    df['Season'] = df['Month'].apply(get_season)\n",
    "    return df"
   ]
  },
  {
   "cell_type": "code",
   "execution_count": 8,
   "metadata": {
    "collapsed": false
   },
   "outputs": [],
   "source": [
    "df = get_df(train)"
   ]
  },
  {
   "cell_type": "code",
   "execution_count": 9,
   "metadata": {
    "collapsed": true
   },
   "outputs": [],
   "source": [
    "categories = df['Category'].unique()"
   ]
  },
  {
   "cell_type": "code",
   "execution_count": 45,
   "metadata": {
    "collapsed": true
   },
   "outputs": [],
   "source": [
    "def get_group(key):\n",
    "    values_by_categories = df.groupby('Category')[key].value_counts()\n",
    "    total_values = df[key].value_counts()\n",
    "    counts = defaultdict(lambda: {cat: 0 for cat in categories})\n",
    "    for (cat, item), value in values_by_categories.to_dict().iteritems():\n",
    "        counts[item][cat] = value / float(total_values[item])\n",
    "    return counts"
   ]
  },
  {
   "cell_type": "code",
   "execution_count": 54,
   "metadata": {
    "collapsed": false
   },
   "outputs": [],
   "source": [
    "percentages_day = get_group('Day')\n",
    "percentages_hour = get_group('Hour')\n",
    "percentages_month = get_group('Month')\n",
    "percentages_year = get_group('Year')\n",
    "percentages_district = get_group('PdDistrict')\n",
    "percentages_ispeek = get_group('IsPeek')\n",
    "percentages_season = get_group('Season')"
   ]
  },
  {
   "cell_type": "code",
   "execution_count": 24,
   "metadata": {
    "collapsed": false
   },
   "outputs": [],
   "source": [
    "result = pd.DataFrame(columns=train['Category'].unique())"
   ]
  },
  {
   "cell_type": "code",
   "execution_count": 67,
   "metadata": {
    "collapsed": true
   },
   "outputs": [],
   "source": [
    "#test = pd.read_csv('../data/test.csv.gz', nrows=20000)"
   ]
  },
  {
   "cell_type": "code",
   "execution_count": 81,
   "metadata": {
    "collapsed": false
   },
   "outputs": [],
   "source": [
    "test_df = get_df(test)"
   ]
  },
  {
   "cell_type": "code",
   "execution_count": 102,
   "metadata": {
    "collapsed": true
   },
   "outputs": [],
   "source": [
    "def get_percentages(row):\n",
    "    c = Counter()\n",
    "    c.update(percentages_day[row['Day']])\n",
    "    c.update(percentages_hour[row['Hour']])\n",
    "    c.update(percentages_month[row['Month']])\n",
    "    c.update(percentages_year[row['Year']])\n",
    "    c.update(percentages_district[row['PdDistrict']])\n",
    "    c.update(percentages_ispeek[row['IsPeek']])\n",
    "    c.update(percentages_season[row['Season']])\n",
    "    result = []\n",
    "    for category in categories:\n",
    "        result.append(round(c[category] / 7, 6))\n",
    "    return result"
   ]
  },
  {
   "cell_type": "markdown",
   "metadata": {},
   "source": [
    "Esto tarda unos minutos"
   ]
  },
  {
   "cell_type": "code",
   "execution_count": 103,
   "metadata": {
    "collapsed": false
   },
   "outputs": [],
   "source": [
    "result = [['Id'] + list(categories)]\n",
    "with gzip.open('../data/test.csv.gz') as f:\n",
    "    reader = csv.DictReader(f)\n",
    "    for test in reader:\n",
    "        row = {'Day': test['DayOfWeek'], 'PdDistrict': test['PdDistrict']}\n",
    "        row['Hour'], row['Month'], row['Year'] = get_dates(test['Dates'])\n",
    "        row['IsPeek'] = 1 if row['Hour'] > 11 and row['Hour'] <= 23 else 0\n",
    "        row['Season'] = get_season(row['Month'])\n",
    "        result.append([test['Id']] + get_percentages(row))"
   ]
  },
  {
   "cell_type": "code",
   "execution_count": 111,
   "metadata": {
    "collapsed": false
   },
   "outputs": [
    {
     "data": {
      "text/plain": [
       "884263"
      ]
     },
     "execution_count": 111,
     "metadata": {},
     "output_type": "execute_result"
    }
   ],
   "source": [
    "len(result)"
   ]
  },
  {
   "cell_type": "code",
   "execution_count": 110,
   "metadata": {
    "collapsed": true
   },
   "outputs": [],
   "source": [
    "with gzip.open('nav2.csv.gz', 'wb') as csvfile:\n",
    "    writer = csv.writer(csvfile, delimiter=',')\n",
    "    for row in result:\n",
    "        writer.writerow(row)"
   ]
  }
 ],
 "metadata": {
  "kernelspec": {
   "display_name": "Python 2",
   "language": "python",
   "name": "python2"
  },
  "language_info": {
   "codemirror_mode": {
    "name": "ipython",
    "version": 2
   },
   "file_extension": ".py",
   "mimetype": "text/x-python",
   "name": "python",
   "nbconvert_exporter": "python",
   "pygments_lexer": "ipython2",
   "version": "2.7.6"
  }
 },
 "nbformat": 4,
 "nbformat_minor": 0
}
