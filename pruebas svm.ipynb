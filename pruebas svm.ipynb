{
 "cells": [
  {
   "cell_type": "code",
   "execution_count": 140,
   "metadata": {
    "collapsed": true
   },
   "outputs": [],
   "source": [
    "from sklearn import svm\n",
    "from sklearn.feature_extraction import DictVectorizer\n",
    "from sklearn.preprocessing import LabelEncoder"
   ]
  },
  {
   "cell_type": "code",
   "execution_count": 142,
   "metadata": {
    "collapsed": true
   },
   "outputs": [],
   "source": [
    "from itertools import islice"
   ]
  },
  {
   "cell_type": "code",
   "execution_count": 153,
   "metadata": {
    "collapsed": false
   },
   "outputs": [],
   "source": [
    "import csv\n",
    "with open('train.csv') as f:\n",
    "    reader = csv.DictReader(f)\n",
    "    lines = list(islice(reader, 0, 10000))"
   ]
  },
  {
   "cell_type": "code",
   "execution_count": 184,
   "metadata": {
    "collapsed": true
   },
   "outputs": [],
   "source": [
    "from time import mktime\n",
    "from datetime import datetime\n",
    "\n",
    "def to_timestamp(string):\n",
    "    return mktime(datetime.strptime(string, '%Y-%m-%d %H:%M:%S').timetuple())"
   ]
  },
  {
   "cell_type": "code",
   "execution_count": 191,
   "metadata": {
    "collapsed": false
   },
   "outputs": [],
   "source": [
    "min_timestamp = to_timestamp('2003-01-06 00:01:00')\n",
    "max_timestamp = to_timestamp('2015-05-13 23:53:00')"
   ]
  },
  {
   "cell_type": "code",
   "execution_count": 187,
   "metadata": {
    "collapsed": false
   },
   "outputs": [],
   "source": [
    "categories = set(line['Category'] for line in lines)"
   ]
  },
  {
   "cell_type": "code",
   "execution_count": 188,
   "metadata": {
    "collapsed": false
   },
   "outputs": [],
   "source": [
    "categories = list(categories)"
   ]
  },
  {
   "cell_type": "code",
   "execution_count": 192,
   "metadata": {
    "collapsed": true
   },
   "outputs": [],
   "source": [
    "def normalize(stamp):\n",
    "    return (stamp - min_timestamp) / (max_timestamp - min_timestamp)"
   ]
  },
  {
   "cell_type": "code",
   "execution_count": 193,
   "metadata": {
    "collapsed": false
   },
   "outputs": [],
   "source": [
    "data = []\n",
    "y = []\n",
    "for line in lines:\n",
    "    data.append({\n",
    "        'PdDistrict': line['PdDistrict'],\n",
    "        'DayOfWeek': line['DayOfWeek'],\n",
    "        'Dates': normalize(to_timestamp(line['Dates']))\n",
    "    })\n",
    "    y.append(line['Category'])"
   ]
  },
  {
   "cell_type": "code",
   "execution_count": 194,
   "metadata": {
    "collapsed": false
   },
   "outputs": [],
   "source": [
    "vec = DictVectorizer()\n",
    "transformed = vec.fit_transform(data)\n",
    "enc = LabelEncoder()\n",
    "labels = enc.fit_transform(y)"
   ]
  },
  {
   "cell_type": "code",
   "execution_count": 146,
   "metadata": {
    "collapsed": false
   },
   "outputs": [
    {
     "name": "stdout",
     "output_type": "stream",
     "text": [
      "  (0, 0)\t1431571980.0\n",
      "  (0, 6)\t1.0\n",
      "  (0, 11)\t1.0\n"
     ]
    }
   ],
   "source": []
  },
  {
   "cell_type": "code",
   "execution_count": 206,
   "metadata": {
    "collapsed": false
   },
   "outputs": [
    {
     "data": {
      "text/plain": [
       "SVC(C=1.0, cache_size=200, class_weight=None, coef0=0.0, degree=3, gamma=0.0,\n",
       "  kernel='rbf', max_iter=-1, probability=False, random_state=None,\n",
       "  shrinking=True, tol=0.001, verbose=False)"
      ]
     },
     "execution_count": 206,
     "metadata": {},
     "output_type": "execute_result"
    }
   ],
   "source": [
    "svc = svm.SVC(kernel='rbf',)\n",
    "\n",
    "svc.fit(transformed, labels)"
   ]
  },
  {
   "cell_type": "code",
   "execution_count": 208,
   "metadata": {
    "collapsed": false
   },
   "outputs": [],
   "source": [
    "result = svc.predict(transformed[:1000])"
   ]
  },
  {
   "cell_type": "code",
   "execution_count": 209,
   "metadata": {
    "collapsed": false
   },
   "outputs": [
    {
     "data": {
      "text/plain": [
       "array(['LARCENY/THEFT', 'LARCENY/THEFT', 'LARCENY/THEFT', 'LARCENY/THEFT',\n",
       "       'LARCENY/THEFT', 'LARCENY/THEFT', 'LARCENY/THEFT', 'OTHER OFFENSES',\n",
       "       'LARCENY/THEFT', 'LARCENY/THEFT', 'LARCENY/THEFT', 'LARCENY/THEFT',\n",
       "       'LARCENY/THEFT', 'LARCENY/THEFT', 'OTHER OFFENSES',\n",
       "       'OTHER OFFENSES', 'LARCENY/THEFT', 'LARCENY/THEFT',\n",
       "       'OTHER OFFENSES', 'LARCENY/THEFT', 'LARCENY/THEFT', 'LARCENY/THEFT',\n",
       "       'LARCENY/THEFT', 'LARCENY/THEFT', 'LARCENY/THEFT', 'LARCENY/THEFT',\n",
       "       'LARCENY/THEFT', 'LARCENY/THEFT', 'LARCENY/THEFT', 'LARCENY/THEFT',\n",
       "       'LARCENY/THEFT', 'OTHER OFFENSES', 'LARCENY/THEFT', 'LARCENY/THEFT',\n",
       "       'LARCENY/THEFT', 'LARCENY/THEFT', 'LARCENY/THEFT', 'LARCENY/THEFT',\n",
       "       'LARCENY/THEFT', 'LARCENY/THEFT', 'LARCENY/THEFT', 'LARCENY/THEFT',\n",
       "       'LARCENY/THEFT', 'OTHER OFFENSES', 'OTHER OFFENSES',\n",
       "       'LARCENY/THEFT', 'LARCENY/THEFT', 'LARCENY/THEFT', 'LARCENY/THEFT',\n",
       "       'LARCENY/THEFT', 'OTHER OFFENSES', 'OTHER OFFENSES',\n",
       "       'LARCENY/THEFT', 'LARCENY/THEFT', 'LARCENY/THEFT', 'LARCENY/THEFT',\n",
       "       'LARCENY/THEFT', 'LARCENY/THEFT', 'LARCENY/THEFT', 'LARCENY/THEFT',\n",
       "       'LARCENY/THEFT', 'LARCENY/THEFT', 'LARCENY/THEFT', 'LARCENY/THEFT',\n",
       "       'LARCENY/THEFT', 'LARCENY/THEFT', 'LARCENY/THEFT', 'LARCENY/THEFT',\n",
       "       'LARCENY/THEFT', 'LARCENY/THEFT', 'LARCENY/THEFT', 'LARCENY/THEFT',\n",
       "       'OTHER OFFENSES', 'OTHER OFFENSES', 'LARCENY/THEFT',\n",
       "       'OTHER OFFENSES', 'OTHER OFFENSES', 'LARCENY/THEFT',\n",
       "       'LARCENY/THEFT', 'OTHER OFFENSES', 'LARCENY/THEFT', 'LARCENY/THEFT',\n",
       "       'LARCENY/THEFT', 'LARCENY/THEFT', 'LARCENY/THEFT', 'LARCENY/THEFT',\n",
       "       'LARCENY/THEFT', 'OTHER OFFENSES', 'LARCENY/THEFT', 'LARCENY/THEFT',\n",
       "       'LARCENY/THEFT', 'LARCENY/THEFT', 'LARCENY/THEFT', 'LARCENY/THEFT',\n",
       "       'LARCENY/THEFT', 'OTHER OFFENSES', 'OTHER OFFENSES',\n",
       "       'LARCENY/THEFT', 'OTHER OFFENSES', 'LARCENY/THEFT', 'LARCENY/THEFT',\n",
       "       'LARCENY/THEFT', 'LARCENY/THEFT', 'LARCENY/THEFT', 'LARCENY/THEFT',\n",
       "       'LARCENY/THEFT', 'LARCENY/THEFT', 'OTHER OFFENSES',\n",
       "       'OTHER OFFENSES', 'OTHER OFFENSES', 'OTHER OFFENSES',\n",
       "       'LARCENY/THEFT', 'LARCENY/THEFT', 'LARCENY/THEFT', 'LARCENY/THEFT',\n",
       "       'LARCENY/THEFT', 'LARCENY/THEFT', 'LARCENY/THEFT', 'LARCENY/THEFT',\n",
       "       'OTHER OFFENSES', 'LARCENY/THEFT', 'LARCENY/THEFT',\n",
       "       'OTHER OFFENSES', 'LARCENY/THEFT', 'LARCENY/THEFT', 'LARCENY/THEFT',\n",
       "       'LARCENY/THEFT', 'LARCENY/THEFT', 'LARCENY/THEFT', 'LARCENY/THEFT',\n",
       "       'LARCENY/THEFT', 'LARCENY/THEFT', 'LARCENY/THEFT', 'OTHER OFFENSES',\n",
       "       'LARCENY/THEFT', 'LARCENY/THEFT', 'LARCENY/THEFT', 'LARCENY/THEFT',\n",
       "       'LARCENY/THEFT', 'LARCENY/THEFT', 'LARCENY/THEFT', 'LARCENY/THEFT',\n",
       "       'LARCENY/THEFT', 'LARCENY/THEFT', 'OTHER OFFENSES', 'LARCENY/THEFT',\n",
       "       'LARCENY/THEFT', 'LARCENY/THEFT', 'LARCENY/THEFT', 'OTHER OFFENSES',\n",
       "       'LARCENY/THEFT', 'LARCENY/THEFT', 'LARCENY/THEFT', 'LARCENY/THEFT',\n",
       "       'LARCENY/THEFT', 'OTHER OFFENSES', 'LARCENY/THEFT', 'LARCENY/THEFT',\n",
       "       'LARCENY/THEFT', 'LARCENY/THEFT', 'LARCENY/THEFT', 'LARCENY/THEFT',\n",
       "       'LARCENY/THEFT', 'LARCENY/THEFT', 'LARCENY/THEFT', 'LARCENY/THEFT',\n",
       "       'LARCENY/THEFT', 'OTHER OFFENSES', 'OTHER OFFENSES',\n",
       "       'OTHER OFFENSES', 'OTHER OFFENSES', 'LARCENY/THEFT',\n",
       "       'LARCENY/THEFT', 'LARCENY/THEFT', 'OTHER OFFENSES', 'LARCENY/THEFT',\n",
       "       'LARCENY/THEFT', 'LARCENY/THEFT', 'LARCENY/THEFT', 'LARCENY/THEFT',\n",
       "       'LARCENY/THEFT', 'LARCENY/THEFT', 'LARCENY/THEFT', 'LARCENY/THEFT',\n",
       "       'LARCENY/THEFT', 'LARCENY/THEFT', 'LARCENY/THEFT', 'LARCENY/THEFT',\n",
       "       'LARCENY/THEFT', 'LARCENY/THEFT', 'LARCENY/THEFT', 'LARCENY/THEFT',\n",
       "       'OTHER OFFENSES', 'LARCENY/THEFT', 'LARCENY/THEFT', 'LARCENY/THEFT',\n",
       "       'LARCENY/THEFT', 'LARCENY/THEFT', 'LARCENY/THEFT', 'LARCENY/THEFT',\n",
       "       'LARCENY/THEFT', 'LARCENY/THEFT', 'OTHER OFFENSES', 'LARCENY/THEFT',\n",
       "       'LARCENY/THEFT', 'LARCENY/THEFT', 'LARCENY/THEFT', 'LARCENY/THEFT',\n",
       "       'LARCENY/THEFT', 'LARCENY/THEFT', 'LARCENY/THEFT', 'LARCENY/THEFT',\n",
       "       'LARCENY/THEFT', 'LARCENY/THEFT', 'LARCENY/THEFT', 'LARCENY/THEFT',\n",
       "       'LARCENY/THEFT', 'LARCENY/THEFT', 'LARCENY/THEFT', 'LARCENY/THEFT',\n",
       "       'OTHER OFFENSES', 'OTHER OFFENSES', 'OTHER OFFENSES',\n",
       "       'OTHER OFFENSES', 'LARCENY/THEFT', 'LARCENY/THEFT', 'LARCENY/THEFT',\n",
       "       'LARCENY/THEFT', 'LARCENY/THEFT', 'LARCENY/THEFT', 'LARCENY/THEFT',\n",
       "       'LARCENY/THEFT', 'LARCENY/THEFT', 'LARCENY/THEFT', 'LARCENY/THEFT',\n",
       "       'OTHER OFFENSES', 'OTHER OFFENSES', 'LARCENY/THEFT',\n",
       "       'LARCENY/THEFT', 'OTHER OFFENSES', 'LARCENY/THEFT',\n",
       "       'OTHER OFFENSES', 'LARCENY/THEFT', 'LARCENY/THEFT', 'LARCENY/THEFT',\n",
       "       'LARCENY/THEFT', 'LARCENY/THEFT', 'LARCENY/THEFT', 'LARCENY/THEFT',\n",
       "       'LARCENY/THEFT', 'LARCENY/THEFT', 'LARCENY/THEFT', 'LARCENY/THEFT',\n",
       "       'LARCENY/THEFT', 'LARCENY/THEFT', 'LARCENY/THEFT', 'LARCENY/THEFT',\n",
       "       'LARCENY/THEFT', 'LARCENY/THEFT', 'LARCENY/THEFT', 'OTHER OFFENSES',\n",
       "       'OTHER OFFENSES', 'LARCENY/THEFT', 'LARCENY/THEFT', 'LARCENY/THEFT',\n",
       "       'LARCENY/THEFT', 'OTHER OFFENSES', 'LARCENY/THEFT',\n",
       "       'OTHER OFFENSES', 'LARCENY/THEFT', 'LARCENY/THEFT', 'LARCENY/THEFT',\n",
       "       'LARCENY/THEFT', 'LARCENY/THEFT', 'LARCENY/THEFT', 'LARCENY/THEFT',\n",
       "       'LARCENY/THEFT', 'OTHER OFFENSES', 'LARCENY/THEFT', 'LARCENY/THEFT',\n",
       "       'LARCENY/THEFT', 'LARCENY/THEFT', 'LARCENY/THEFT', 'LARCENY/THEFT',\n",
       "       'LARCENY/THEFT', 'LARCENY/THEFT', 'LARCENY/THEFT', 'LARCENY/THEFT',\n",
       "       'LARCENY/THEFT', 'LARCENY/THEFT', 'LARCENY/THEFT', 'OTHER OFFENSES',\n",
       "       'OTHER OFFENSES', 'LARCENY/THEFT', 'LARCENY/THEFT',\n",
       "       'OTHER OFFENSES', 'OTHER OFFENSES', 'OTHER OFFENSES',\n",
       "       'OTHER OFFENSES', 'OTHER OFFENSES', 'LARCENY/THEFT',\n",
       "       'LARCENY/THEFT', 'LARCENY/THEFT', 'LARCENY/THEFT', 'LARCENY/THEFT',\n",
       "       'OTHER OFFENSES', 'LARCENY/THEFT', 'OTHER OFFENSES',\n",
       "       'LARCENY/THEFT', 'LARCENY/THEFT', 'LARCENY/THEFT', 'LARCENY/THEFT',\n",
       "       'OTHER OFFENSES', 'LARCENY/THEFT', 'LARCENY/THEFT', 'LARCENY/THEFT',\n",
       "       'LARCENY/THEFT', 'LARCENY/THEFT', 'LARCENY/THEFT', 'LARCENY/THEFT',\n",
       "       'LARCENY/THEFT', 'LARCENY/THEFT', 'LARCENY/THEFT', 'LARCENY/THEFT',\n",
       "       'LARCENY/THEFT', 'LARCENY/THEFT', 'LARCENY/THEFT', 'LARCENY/THEFT',\n",
       "       'LARCENY/THEFT', 'LARCENY/THEFT', 'LARCENY/THEFT', 'LARCENY/THEFT',\n",
       "       'LARCENY/THEFT', 'LARCENY/THEFT', 'LARCENY/THEFT', 'LARCENY/THEFT',\n",
       "       'LARCENY/THEFT', 'OTHER OFFENSES', 'LARCENY/THEFT', 'LARCENY/THEFT',\n",
       "       'LARCENY/THEFT', 'OTHER OFFENSES', 'OTHER OFFENSES',\n",
       "       'LARCENY/THEFT', 'LARCENY/THEFT', 'LARCENY/THEFT', 'LARCENY/THEFT',\n",
       "       'LARCENY/THEFT', 'LARCENY/THEFT', 'LARCENY/THEFT', 'LARCENY/THEFT',\n",
       "       'LARCENY/THEFT', 'LARCENY/THEFT', 'LARCENY/THEFT', 'LARCENY/THEFT',\n",
       "       'LARCENY/THEFT', 'OTHER OFFENSES', 'LARCENY/THEFT', 'LARCENY/THEFT',\n",
       "       'LARCENY/THEFT', 'LARCENY/THEFT', 'LARCENY/THEFT', 'LARCENY/THEFT',\n",
       "       'OTHER OFFENSES', 'OTHER OFFENSES', 'LARCENY/THEFT',\n",
       "       'LARCENY/THEFT', 'LARCENY/THEFT', 'LARCENY/THEFT', 'OTHER OFFENSES',\n",
       "       'LARCENY/THEFT', 'LARCENY/THEFT', 'OTHER OFFENSES',\n",
       "       'OTHER OFFENSES', 'LARCENY/THEFT', 'LARCENY/THEFT', 'LARCENY/THEFT',\n",
       "       'OTHER OFFENSES', 'LARCENY/THEFT', 'LARCENY/THEFT', 'LARCENY/THEFT',\n",
       "       'LARCENY/THEFT', 'LARCENY/THEFT', 'LARCENY/THEFT', 'LARCENY/THEFT',\n",
       "       'LARCENY/THEFT', 'LARCENY/THEFT', 'LARCENY/THEFT', 'LARCENY/THEFT',\n",
       "       'LARCENY/THEFT', 'LARCENY/THEFT', 'LARCENY/THEFT', 'LARCENY/THEFT',\n",
       "       'LARCENY/THEFT', 'LARCENY/THEFT', 'OTHER OFFENSES', 'LARCENY/THEFT',\n",
       "       'LARCENY/THEFT', 'LARCENY/THEFT', 'OTHER OFFENSES', 'LARCENY/THEFT',\n",
       "       'LARCENY/THEFT', 'LARCENY/THEFT', 'LARCENY/THEFT', 'LARCENY/THEFT',\n",
       "       'LARCENY/THEFT', 'LARCENY/THEFT', 'LARCENY/THEFT', 'OTHER OFFENSES',\n",
       "       'LARCENY/THEFT', 'LARCENY/THEFT', 'LARCENY/THEFT', 'OTHER OFFENSES',\n",
       "       'OTHER OFFENSES', 'LARCENY/THEFT', 'OTHER OFFENSES',\n",
       "       'LARCENY/THEFT', 'LARCENY/THEFT', 'LARCENY/THEFT', 'LARCENY/THEFT',\n",
       "       'LARCENY/THEFT', 'LARCENY/THEFT', 'LARCENY/THEFT', 'LARCENY/THEFT',\n",
       "       'LARCENY/THEFT', 'LARCENY/THEFT', 'LARCENY/THEFT', 'LARCENY/THEFT',\n",
       "       'LARCENY/THEFT', 'LARCENY/THEFT', 'OTHER OFFENSES',\n",
       "       'OTHER OFFENSES', 'OTHER OFFENSES', 'LARCENY/THEFT',\n",
       "       'OTHER OFFENSES', 'LARCENY/THEFT', 'LARCENY/THEFT',\n",
       "       'OTHER OFFENSES', 'OTHER OFFENSES', 'LARCENY/THEFT',\n",
       "       'LARCENY/THEFT', 'LARCENY/THEFT', 'OTHER OFFENSES', 'LARCENY/THEFT',\n",
       "       'OTHER OFFENSES', 'LARCENY/THEFT', 'LARCENY/THEFT',\n",
       "       'OTHER OFFENSES', 'LARCENY/THEFT', 'OTHER OFFENSES',\n",
       "       'LARCENY/THEFT', 'LARCENY/THEFT', 'LARCENY/THEFT', 'OTHER OFFENSES',\n",
       "       'LARCENY/THEFT', 'LARCENY/THEFT', 'LARCENY/THEFT', 'LARCENY/THEFT',\n",
       "       'LARCENY/THEFT', 'LARCENY/THEFT', 'LARCENY/THEFT', 'LARCENY/THEFT',\n",
       "       'LARCENY/THEFT', 'LARCENY/THEFT', 'LARCENY/THEFT', 'LARCENY/THEFT',\n",
       "       'OTHER OFFENSES', 'LARCENY/THEFT', 'OTHER OFFENSES',\n",
       "       'LARCENY/THEFT', 'LARCENY/THEFT', 'LARCENY/THEFT', 'LARCENY/THEFT',\n",
       "       'OTHER OFFENSES', 'OTHER OFFENSES', 'LARCENY/THEFT',\n",
       "       'LARCENY/THEFT', 'OTHER OFFENSES', 'LARCENY/THEFT', 'LARCENY/THEFT',\n",
       "       'LARCENY/THEFT', 'LARCENY/THEFT', 'LARCENY/THEFT', 'LARCENY/THEFT',\n",
       "       'LARCENY/THEFT', 'LARCENY/THEFT', 'LARCENY/THEFT', 'LARCENY/THEFT',\n",
       "       'LARCENY/THEFT', 'LARCENY/THEFT', 'OTHER OFFENSES', 'LARCENY/THEFT',\n",
       "       'LARCENY/THEFT', 'LARCENY/THEFT', 'OTHER OFFENSES', 'LARCENY/THEFT',\n",
       "       'LARCENY/THEFT', 'LARCENY/THEFT', 'LARCENY/THEFT', 'LARCENY/THEFT',\n",
       "       'LARCENY/THEFT', 'LARCENY/THEFT', 'LARCENY/THEFT', 'LARCENY/THEFT',\n",
       "       'LARCENY/THEFT', 'LARCENY/THEFT', 'LARCENY/THEFT', 'OTHER OFFENSES',\n",
       "       'LARCENY/THEFT', 'OTHER OFFENSES', 'OTHER OFFENSES',\n",
       "       'OTHER OFFENSES', 'LARCENY/THEFT', 'LARCENY/THEFT',\n",
       "       'OTHER OFFENSES', 'OTHER OFFENSES', 'LARCENY/THEFT',\n",
       "       'OTHER OFFENSES', 'OTHER OFFENSES', 'OTHER OFFENSES',\n",
       "       'OTHER OFFENSES', 'OTHER OFFENSES', 'LARCENY/THEFT',\n",
       "       'LARCENY/THEFT', 'LARCENY/THEFT', 'LARCENY/THEFT', 'LARCENY/THEFT',\n",
       "       'LARCENY/THEFT', 'LARCENY/THEFT', 'OTHER OFFENSES',\n",
       "       'OTHER OFFENSES', 'LARCENY/THEFT', 'LARCENY/THEFT',\n",
       "       'OTHER OFFENSES', 'LARCENY/THEFT', 'LARCENY/THEFT', 'LARCENY/THEFT',\n",
       "       'OTHER OFFENSES', 'LARCENY/THEFT', 'LARCENY/THEFT',\n",
       "       'OTHER OFFENSES', 'LARCENY/THEFT', 'OTHER OFFENSES',\n",
       "       'LARCENY/THEFT', 'LARCENY/THEFT', 'OTHER OFFENSES', 'LARCENY/THEFT',\n",
       "       'OTHER OFFENSES', 'LARCENY/THEFT', 'LARCENY/THEFT',\n",
       "       'OTHER OFFENSES', 'OTHER OFFENSES', 'LARCENY/THEFT',\n",
       "       'LARCENY/THEFT', 'LARCENY/THEFT', 'OTHER OFFENSES', 'LARCENY/THEFT',\n",
       "       'LARCENY/THEFT', 'OTHER OFFENSES', 'LARCENY/THEFT', 'LARCENY/THEFT',\n",
       "       'OTHER OFFENSES', 'LARCENY/THEFT', 'OTHER OFFENSES',\n",
       "       'OTHER OFFENSES', 'LARCENY/THEFT', 'LARCENY/THEFT', 'LARCENY/THEFT',\n",
       "       'LARCENY/THEFT', 'LARCENY/THEFT', 'LARCENY/THEFT', 'LARCENY/THEFT',\n",
       "       'LARCENY/THEFT', 'LARCENY/THEFT', 'LARCENY/THEFT', 'LARCENY/THEFT',\n",
       "       'OTHER OFFENSES', 'OTHER OFFENSES', 'OTHER OFFENSES',\n",
       "       'LARCENY/THEFT', 'LARCENY/THEFT', 'LARCENY/THEFT', 'LARCENY/THEFT',\n",
       "       'LARCENY/THEFT', 'LARCENY/THEFT', 'LARCENY/THEFT', 'LARCENY/THEFT',\n",
       "       'LARCENY/THEFT', 'LARCENY/THEFT', 'LARCENY/THEFT', 'LARCENY/THEFT',\n",
       "       'LARCENY/THEFT', 'LARCENY/THEFT', 'LARCENY/THEFT', 'LARCENY/THEFT',\n",
       "       'LARCENY/THEFT', 'LARCENY/THEFT', 'LARCENY/THEFT', 'LARCENY/THEFT',\n",
       "       'OTHER OFFENSES', 'LARCENY/THEFT', 'LARCENY/THEFT', 'LARCENY/THEFT',\n",
       "       'LARCENY/THEFT', 'LARCENY/THEFT', 'LARCENY/THEFT', 'LARCENY/THEFT',\n",
       "       'OTHER OFFENSES', 'LARCENY/THEFT', 'LARCENY/THEFT', 'LARCENY/THEFT',\n",
       "       'LARCENY/THEFT', 'LARCENY/THEFT', 'LARCENY/THEFT', 'LARCENY/THEFT',\n",
       "       'LARCENY/THEFT', 'LARCENY/THEFT', 'LARCENY/THEFT', 'LARCENY/THEFT',\n",
       "       'LARCENY/THEFT', 'LARCENY/THEFT', 'LARCENY/THEFT', 'LARCENY/THEFT',\n",
       "       'OTHER OFFENSES', 'LARCENY/THEFT', 'OTHER OFFENSES',\n",
       "       'OTHER OFFENSES', 'LARCENY/THEFT', 'LARCENY/THEFT', 'LARCENY/THEFT',\n",
       "       'LARCENY/THEFT', 'LARCENY/THEFT', 'LARCENY/THEFT', 'LARCENY/THEFT',\n",
       "       'LARCENY/THEFT', 'LARCENY/THEFT', 'LARCENY/THEFT', 'LARCENY/THEFT',\n",
       "       'OTHER OFFENSES', 'LARCENY/THEFT', 'LARCENY/THEFT', 'LARCENY/THEFT',\n",
       "       'OTHER OFFENSES', 'LARCENY/THEFT', 'LARCENY/THEFT', 'LARCENY/THEFT',\n",
       "       'LARCENY/THEFT', 'LARCENY/THEFT', 'LARCENY/THEFT', 'LARCENY/THEFT',\n",
       "       'LARCENY/THEFT', 'LARCENY/THEFT', 'OTHER OFFENSES', 'LARCENY/THEFT',\n",
       "       'LARCENY/THEFT', 'LARCENY/THEFT', 'LARCENY/THEFT', 'OTHER OFFENSES',\n",
       "       'OTHER OFFENSES', 'LARCENY/THEFT', 'LARCENY/THEFT',\n",
       "       'OTHER OFFENSES', 'OTHER OFFENSES', 'LARCENY/THEFT',\n",
       "       'LARCENY/THEFT', 'LARCENY/THEFT', 'LARCENY/THEFT', 'LARCENY/THEFT',\n",
       "       'LARCENY/THEFT', 'OTHER OFFENSES', 'OTHER OFFENSES',\n",
       "       'OTHER OFFENSES', 'OTHER OFFENSES', 'OTHER OFFENSES',\n",
       "       'LARCENY/THEFT', 'LARCENY/THEFT', 'LARCENY/THEFT', 'LARCENY/THEFT',\n",
       "       'LARCENY/THEFT', 'OTHER OFFENSES', 'OTHER OFFENSES',\n",
       "       'OTHER OFFENSES', 'LARCENY/THEFT', 'OTHER OFFENSES',\n",
       "       'LARCENY/THEFT', 'LARCENY/THEFT', 'LARCENY/THEFT', 'LARCENY/THEFT',\n",
       "       'LARCENY/THEFT', 'LARCENY/THEFT', 'LARCENY/THEFT', 'LARCENY/THEFT',\n",
       "       'LARCENY/THEFT', 'OTHER OFFENSES', 'LARCENY/THEFT', 'LARCENY/THEFT',\n",
       "       'LARCENY/THEFT', 'LARCENY/THEFT', 'OTHER OFFENSES', 'LARCENY/THEFT',\n",
       "       'LARCENY/THEFT', 'LARCENY/THEFT', 'LARCENY/THEFT', 'LARCENY/THEFT',\n",
       "       'OTHER OFFENSES', 'LARCENY/THEFT', 'LARCENY/THEFT', 'LARCENY/THEFT',\n",
       "       'LARCENY/THEFT', 'LARCENY/THEFT', 'LARCENY/THEFT', 'LARCENY/THEFT',\n",
       "       'OTHER OFFENSES', 'LARCENY/THEFT', 'OTHER OFFENSES',\n",
       "       'OTHER OFFENSES', 'OTHER OFFENSES', 'LARCENY/THEFT',\n",
       "       'LARCENY/THEFT', 'LARCENY/THEFT', 'LARCENY/THEFT', 'LARCENY/THEFT',\n",
       "       'LARCENY/THEFT', 'OTHER OFFENSES', 'OTHER OFFENSES',\n",
       "       'OTHER OFFENSES', 'OTHER OFFENSES', 'OTHER OFFENSES',\n",
       "       'LARCENY/THEFT', 'LARCENY/THEFT', 'LARCENY/THEFT', 'LARCENY/THEFT',\n",
       "       'LARCENY/THEFT', 'LARCENY/THEFT', 'LARCENY/THEFT', 'LARCENY/THEFT',\n",
       "       'LARCENY/THEFT', 'LARCENY/THEFT', 'LARCENY/THEFT', 'OTHER OFFENSES',\n",
       "       'LARCENY/THEFT', 'LARCENY/THEFT', 'LARCENY/THEFT', 'LARCENY/THEFT',\n",
       "       'LARCENY/THEFT', 'OTHER OFFENSES', 'OTHER OFFENSES',\n",
       "       'OTHER OFFENSES', 'LARCENY/THEFT', 'OTHER OFFENSES',\n",
       "       'LARCENY/THEFT', 'LARCENY/THEFT', 'LARCENY/THEFT', 'LARCENY/THEFT',\n",
       "       'OTHER OFFENSES', 'LARCENY/THEFT', 'LARCENY/THEFT', 'LARCENY/THEFT',\n",
       "       'LARCENY/THEFT', 'LARCENY/THEFT', 'LARCENY/THEFT', 'LARCENY/THEFT',\n",
       "       'LARCENY/THEFT', 'LARCENY/THEFT', 'LARCENY/THEFT', 'LARCENY/THEFT',\n",
       "       'LARCENY/THEFT', 'LARCENY/THEFT', 'LARCENY/THEFT', 'OTHER OFFENSES',\n",
       "       'LARCENY/THEFT', 'LARCENY/THEFT', 'LARCENY/THEFT', 'OTHER OFFENSES',\n",
       "       'LARCENY/THEFT', 'LARCENY/THEFT', 'LARCENY/THEFT', 'LARCENY/THEFT',\n",
       "       'OTHER OFFENSES', 'LARCENY/THEFT', 'LARCENY/THEFT', 'LARCENY/THEFT',\n",
       "       'LARCENY/THEFT', 'LARCENY/THEFT', 'LARCENY/THEFT', 'LARCENY/THEFT',\n",
       "       'LARCENY/THEFT', 'LARCENY/THEFT', 'OTHER OFFENSES',\n",
       "       'OTHER OFFENSES', 'LARCENY/THEFT', 'OTHER OFFENSES',\n",
       "       'OTHER OFFENSES', 'OTHER OFFENSES', 'OTHER OFFENSES',\n",
       "       'LARCENY/THEFT', 'OTHER OFFENSES', 'LARCENY/THEFT',\n",
       "       'OTHER OFFENSES', 'OTHER OFFENSES', 'LARCENY/THEFT',\n",
       "       'LARCENY/THEFT', 'OTHER OFFENSES', 'OTHER OFFENSES',\n",
       "       'LARCENY/THEFT', 'LARCENY/THEFT', 'LARCENY/THEFT', 'LARCENY/THEFT',\n",
       "       'LARCENY/THEFT', 'LARCENY/THEFT', 'LARCENY/THEFT', 'LARCENY/THEFT',\n",
       "       'LARCENY/THEFT', 'LARCENY/THEFT', 'LARCENY/THEFT', 'LARCENY/THEFT',\n",
       "       'LARCENY/THEFT', 'LARCENY/THEFT', 'LARCENY/THEFT', 'OTHER OFFENSES',\n",
       "       'OTHER OFFENSES', 'LARCENY/THEFT', 'LARCENY/THEFT', 'LARCENY/THEFT',\n",
       "       'OTHER OFFENSES', 'OTHER OFFENSES', 'OTHER OFFENSES',\n",
       "       'LARCENY/THEFT', 'LARCENY/THEFT', 'LARCENY/THEFT', 'LARCENY/THEFT',\n",
       "       'LARCENY/THEFT', 'LARCENY/THEFT', 'LARCENY/THEFT', 'LARCENY/THEFT',\n",
       "       'LARCENY/THEFT', 'LARCENY/THEFT', 'OTHER OFFENSES', 'LARCENY/THEFT',\n",
       "       'LARCENY/THEFT', 'OTHER OFFENSES', 'OTHER OFFENSES',\n",
       "       'LARCENY/THEFT', 'LARCENY/THEFT', 'LARCENY/THEFT', 'OTHER OFFENSES',\n",
       "       'OTHER OFFENSES', 'OTHER OFFENSES', 'OTHER OFFENSES',\n",
       "       'LARCENY/THEFT', 'LARCENY/THEFT', 'LARCENY/THEFT', 'LARCENY/THEFT',\n",
       "       'OTHER OFFENSES', 'LARCENY/THEFT', 'LARCENY/THEFT', 'LARCENY/THEFT',\n",
       "       'LARCENY/THEFT', 'LARCENY/THEFT', 'LARCENY/THEFT', 'OTHER OFFENSES',\n",
       "       'LARCENY/THEFT', 'OTHER OFFENSES', 'LARCENY/THEFT', 'LARCENY/THEFT',\n",
       "       'LARCENY/THEFT', 'LARCENY/THEFT', 'LARCENY/THEFT', 'LARCENY/THEFT',\n",
       "       'OTHER OFFENSES', 'LARCENY/THEFT', 'LARCENY/THEFT',\n",
       "       'OTHER OFFENSES', 'LARCENY/THEFT', 'LARCENY/THEFT', 'LARCENY/THEFT',\n",
       "       'LARCENY/THEFT', 'LARCENY/THEFT', 'LARCENY/THEFT', 'LARCENY/THEFT',\n",
       "       'LARCENY/THEFT', 'LARCENY/THEFT', 'OTHER OFFENSES', 'LARCENY/THEFT',\n",
       "       'LARCENY/THEFT', 'LARCENY/THEFT', 'LARCENY/THEFT', 'LARCENY/THEFT',\n",
       "       'OTHER OFFENSES', 'OTHER OFFENSES', 'LARCENY/THEFT',\n",
       "       'LARCENY/THEFT', 'LARCENY/THEFT', 'LARCENY/THEFT', 'OTHER OFFENSES',\n",
       "       'OTHER OFFENSES', 'LARCENY/THEFT', 'OTHER OFFENSES',\n",
       "       'LARCENY/THEFT', 'LARCENY/THEFT', 'LARCENY/THEFT', 'LARCENY/THEFT',\n",
       "       'LARCENY/THEFT', 'LARCENY/THEFT', 'LARCENY/THEFT', 'LARCENY/THEFT',\n",
       "       'LARCENY/THEFT', 'LARCENY/THEFT', 'OTHER OFFENSES', 'LARCENY/THEFT',\n",
       "       'LARCENY/THEFT', 'LARCENY/THEFT', 'LARCENY/THEFT', 'LARCENY/THEFT',\n",
       "       'LARCENY/THEFT', 'LARCENY/THEFT', 'LARCENY/THEFT', 'LARCENY/THEFT',\n",
       "       'LARCENY/THEFT', 'LARCENY/THEFT', 'LARCENY/THEFT', 'LARCENY/THEFT',\n",
       "       'LARCENY/THEFT', 'LARCENY/THEFT', 'LARCENY/THEFT', 'LARCENY/THEFT',\n",
       "       'LARCENY/THEFT', 'LARCENY/THEFT', 'LARCENY/THEFT', 'LARCENY/THEFT',\n",
       "       'LARCENY/THEFT', 'LARCENY/THEFT', 'LARCENY/THEFT', 'OTHER OFFENSES',\n",
       "       'LARCENY/THEFT', 'LARCENY/THEFT', 'LARCENY/THEFT', 'OTHER OFFENSES',\n",
       "       'OTHER OFFENSES', 'LARCENY/THEFT', 'LARCENY/THEFT', 'LARCENY/THEFT',\n",
       "       'LARCENY/THEFT', 'LARCENY/THEFT', 'LARCENY/THEFT', 'LARCENY/THEFT',\n",
       "       'LARCENY/THEFT', 'LARCENY/THEFT', 'LARCENY/THEFT', 'LARCENY/THEFT',\n",
       "       'LARCENY/THEFT', 'OTHER OFFENSES', 'LARCENY/THEFT', 'LARCENY/THEFT',\n",
       "       'LARCENY/THEFT', 'LARCENY/THEFT', 'LARCENY/THEFT', 'LARCENY/THEFT',\n",
       "       'LARCENY/THEFT', 'LARCENY/THEFT', 'LARCENY/THEFT', 'LARCENY/THEFT',\n",
       "       'LARCENY/THEFT', 'LARCENY/THEFT', 'LARCENY/THEFT', 'OTHER OFFENSES',\n",
       "       'OTHER OFFENSES', 'OTHER OFFENSES', 'OTHER OFFENSES',\n",
       "       'LARCENY/THEFT', 'LARCENY/THEFT', 'OTHER OFFENSES', 'LARCENY/THEFT',\n",
       "       'LARCENY/THEFT', 'LARCENY/THEFT', 'LARCENY/THEFT', 'LARCENY/THEFT',\n",
       "       'LARCENY/THEFT', 'OTHER OFFENSES', 'LARCENY/THEFT', 'LARCENY/THEFT',\n",
       "       'LARCENY/THEFT', 'LARCENY/THEFT', 'OTHER OFFENSES', 'LARCENY/THEFT',\n",
       "       'OTHER OFFENSES', 'LARCENY/THEFT', 'LARCENY/THEFT', 'LARCENY/THEFT',\n",
       "       'LARCENY/THEFT', 'LARCENY/THEFT', 'LARCENY/THEFT', 'LARCENY/THEFT',\n",
       "       'LARCENY/THEFT', 'LARCENY/THEFT', 'OTHER OFFENSES',\n",
       "       'OTHER OFFENSES', 'LARCENY/THEFT', 'LARCENY/THEFT', 'LARCENY/THEFT'], \n",
       "      dtype='|S27')"
      ]
     },
     "execution_count": 209,
     "metadata": {},
     "output_type": "execute_result"
    }
   ],
   "source": [
    "enc.inverse_transform(result)"
   ]
  }
 ],
 "metadata": {
  "kernelspec": {
   "display_name": "Python 2",
   "language": "python",
   "name": "python2"
  },
  "language_info": {
   "codemirror_mode": {
    "name": "ipython",
    "version": 2
   },
   "file_extension": ".py",
   "mimetype": "text/x-python",
   "name": "python",
   "nbconvert_exporter": "python",
   "pygments_lexer": "ipython2",
   "version": "2.7.6"
  }
 },
 "nbformat": 4,
 "nbformat_minor": 0
}
